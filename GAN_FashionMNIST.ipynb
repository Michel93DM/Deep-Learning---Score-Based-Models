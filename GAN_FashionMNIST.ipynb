{
  "cells": [
    {
      "cell_type": "markdown",
      "metadata": {
        "id": "view-in-github",
        "colab_type": "text"
      },
      "source": [
        "<a href=\"https://colab.research.google.com/github/Michel93DM/Deep-Learning---Score-Based-Models/blob/main/GAN_FashionMNIST.ipynb\" target=\"_parent\"><img src=\"https://colab.research.google.com/assets/colab-badge.svg\" alt=\"Open In Colab\"/></a>"
      ]
    },
    {
      "cell_type": "code",
      "execution_count": 1,
      "id": "14224564",
      "metadata": {
        "id": "14224564"
      },
      "outputs": [],
      "source": [
        "import random\n",
        "import torch\n",
        "import torch.nn as nn\n",
        "import torch.nn.parallel\n",
        "import torch.nn.functional as F\n",
        "from torch.nn.functional import adaptive_avg_pool2d\n",
        "\n",
        "import torch.optim as optim\n",
        "import torch.utils.data\n",
        "import torchvision.utils as vutils\n",
        "from torch.utils.data import DataLoader\n",
        "\n",
        "import torchvision\n",
        "import torchvision.transforms as transforms\n",
        "import torchvision.models as models\n",
        "import torchvision.transforms as transforms\n",
        "from torchvision.datasets import FashionMNIST, MNIST, CIFAR10\n",
        "\n",
        "import numpy as np\n",
        "import matplotlib.pyplot as plt\n",
        "\n",
        "\n",
        "import matplotlib.animation as animation\n",
        "from IPython.display import HTML\n",
        "\n",
        "\n",
        "\n",
        "from PIL import Image\n",
        "import sys\n",
        "import os\n",
        "import time"
      ]
    },
    {
      "cell_type": "code",
      "execution_count": 2,
      "id": "70af1de8",
      "metadata": {
        "colab": {
          "base_uri": "https://localhost:8080/"
        },
        "id": "70af1de8",
        "outputId": "eeb3c3b8-59a5-4360-d9b4-8a70b956bbf1"
      },
      "outputs": [
        {
          "output_type": "stream",
          "name": "stdout",
          "text": [
            "2.0.0+cu118\n",
            "GPU Available: False\n",
            "cpu\n"
          ]
        }
      ],
      "source": [
        "print(torch.__version__)\n",
        "print('GPU Available:', torch.cuda.is_available())\n",
        "\n",
        "if torch.cuda.is_available():\n",
        "    device = torch.device('cuda:0')\n",
        "else:\n",
        "    device = 'cpu'\n",
        "\n",
        "print(device)"
      ]
    },
    {
      "cell_type": "code",
      "execution_count": 3,
      "id": "27fc8916",
      "metadata": {
        "colab": {
          "base_uri": "https://localhost:8080/"
        },
        "id": "27fc8916",
        "outputId": "479b18bb-9213-45f3-f8c8-d67ffc244bab"
      },
      "outputs": [
        {
          "output_type": "stream",
          "name": "stdout",
          "text": [
            "Downloading http://fashion-mnist.s3-website.eu-central-1.amazonaws.com/train-images-idx3-ubyte.gz\n",
            "Downloading http://fashion-mnist.s3-website.eu-central-1.amazonaws.com/train-images-idx3-ubyte.gz to ./FashionMNIST/raw/train-images-idx3-ubyte.gz\n"
          ]
        },
        {
          "output_type": "stream",
          "name": "stderr",
          "text": [
            "100%|██████████| 26421880/26421880 [00:00<00:00, 116028039.20it/s]\n"
          ]
        },
        {
          "output_type": "stream",
          "name": "stdout",
          "text": [
            "Extracting ./FashionMNIST/raw/train-images-idx3-ubyte.gz to ./FashionMNIST/raw\n",
            "\n",
            "Downloading http://fashion-mnist.s3-website.eu-central-1.amazonaws.com/train-labels-idx1-ubyte.gz\n",
            "Downloading http://fashion-mnist.s3-website.eu-central-1.amazonaws.com/train-labels-idx1-ubyte.gz to ./FashionMNIST/raw/train-labels-idx1-ubyte.gz\n"
          ]
        },
        {
          "output_type": "stream",
          "name": "stderr",
          "text": [
            "100%|██████████| 29515/29515 [00:00<00:00, 5675019.83it/s]"
          ]
        },
        {
          "output_type": "stream",
          "name": "stdout",
          "text": [
            "Extracting ./FashionMNIST/raw/train-labels-idx1-ubyte.gz to ./FashionMNIST/raw\n",
            "\n",
            "Downloading http://fashion-mnist.s3-website.eu-central-1.amazonaws.com/t10k-images-idx3-ubyte.gz\n",
            "Downloading http://fashion-mnist.s3-website.eu-central-1.amazonaws.com/t10k-images-idx3-ubyte.gz to ./FashionMNIST/raw/t10k-images-idx3-ubyte.gz\n"
          ]
        },
        {
          "output_type": "stream",
          "name": "stderr",
          "text": [
            "\n",
            "100%|██████████| 4422102/4422102 [00:00<00:00, 60372698.65it/s]\n"
          ]
        },
        {
          "output_type": "stream",
          "name": "stdout",
          "text": [
            "Extracting ./FashionMNIST/raw/t10k-images-idx3-ubyte.gz to ./FashionMNIST/raw\n",
            "\n",
            "Downloading http://fashion-mnist.s3-website.eu-central-1.amazonaws.com/t10k-labels-idx1-ubyte.gz\n",
            "Downloading http://fashion-mnist.s3-website.eu-central-1.amazonaws.com/t10k-labels-idx1-ubyte.gz to ./FashionMNIST/raw/t10k-labels-idx1-ubyte.gz\n"
          ]
        },
        {
          "output_type": "stream",
          "name": "stderr",
          "text": [
            "100%|██████████| 5148/5148 [00:00<00:00, 15511693.24it/s]"
          ]
        },
        {
          "output_type": "stream",
          "name": "stdout",
          "text": [
            "Extracting ./FashionMNIST/raw/t10k-labels-idx1-ubyte.gz to ./FashionMNIST/raw\n",
            "\n"
          ]
        },
        {
          "output_type": "stream",
          "name": "stderr",
          "text": [
            "\n"
          ]
        },
        {
          "output_type": "stream",
          "name": "stdout",
          "text": [
            "Min: 0.0 Max : 1.0\n",
            "torch.Size([1, 28, 28])\n"
          ]
        }
      ],
      "source": [
        "transform =  transforms.Compose([ transforms.ToTensor(),\n",
        "                               transforms.Normalize(mean= (0.5),std = (0.5)), ])\n",
        "\n",
        "FashionMNIST_data = FashionMNIST('.', train=True, \n",
        "                                 transform=transforms.ToTensor(), download=True)\n",
        "\n",
        "\n",
        "example1, label1 = next(iter(FashionMNIST_data))\n",
        "print(f'Min: {example1.min() } Max : {example1.max()}')\n",
        "print(example1.shape)"
      ]
    },
    {
      "cell_type": "code",
      "execution_count": 4,
      "id": "e4b93d96",
      "metadata": {
        "id": "e4b93d96"
      },
      "outputs": [],
      "source": [
        "## define a function for the generator:\n",
        "\n",
        "def make_generator_network(input_size= 20, \n",
        "                           num_hidden_layers = 1, \n",
        "                           num_hidden_units = 100,\n",
        "                           num_output_units = 784):\n",
        "  model = nn.Sequential()\n",
        "  for i in range(num_hidden_layers):\n",
        "    model.add_module(f'fc_g{i}',\n",
        "                     nn.Linear(input_size, num_hidden_units))\n",
        "    model.add_module(f'relu_g{i}',nn.LeakyReLU())\n",
        "    input_size = num_hidden_units\n",
        "\n",
        "  model.add_module(f'fc_g{num_hidden_layers}', \n",
        "                   nn.Linear(input_size, num_output_units))\n",
        "  model.add_module('tanh_g', nn.Tanh())\n",
        "\n",
        "  return model\n",
        "\n",
        "## define a function for the discrimainator: \n",
        "\n",
        "def make_discriminator_network(input_size, \n",
        "                               num_hidden_layers =1, \n",
        "                               num_hidden_units = 100, \n",
        "                               num_output_units = 1 ):\n",
        "  model = nn.Sequential()\n",
        "  for i in range(num_hidden_layers):\n",
        "    model.add_module(f'fc_d{i}',\n",
        "                     nn.Linear(input_size, num_hidden_units, bias = False))\n",
        "    model.add_module(f'relu_d{i}', nn.LeakyReLU())\n",
        "    model.add_module('dropout', nn.Dropout(p=0.5))\n",
        "    input_size = num_hidden_units\n",
        "  model.add_module(f'fc_d{num_hidden_layers}', \n",
        "                   nn.Linear(input_size, num_output_units))\n",
        "  model.add_module('sigmoid', nn.Sigmoid())\n",
        "  return model"
      ]
    },
    {
      "cell_type": "code",
      "execution_count": 5,
      "id": "3b5ae966",
      "metadata": {
        "colab": {
          "base_uri": "https://localhost:8080/"
        },
        "id": "3b5ae966",
        "outputId": "624b93e4-3308-4d9d-8c87-b024519c749b"
      },
      "outputs": [
        {
          "output_type": "stream",
          "name": "stdout",
          "text": [
            "Sequential(\n",
            "  (fc_g0): Linear(in_features=20, out_features=100, bias=True)\n",
            "  (relu_g0): LeakyReLU(negative_slope=0.01)\n",
            "  (fc_g1): Linear(in_features=100, out_features=784, bias=True)\n",
            "  (tanh_g): Tanh()\n",
            ")\n",
            "Sequential(\n",
            "  (fc_d0): Linear(in_features=784, out_features=100, bias=False)\n",
            "  (relu_d0): LeakyReLU(negative_slope=0.01)\n",
            "  (dropout): Dropout(p=0.5, inplace=False)\n",
            "  (fc_d1): Linear(in_features=100, out_features=1, bias=True)\n",
            "  (sigmoid): Sigmoid()\n",
            ")\n"
          ]
        }
      ],
      "source": [
        "image_size = (28,28)\n",
        "z_size = 20\n",
        "gen_hidden_layers  = 1\n",
        "disc_hidden_layers  = 1\n",
        "gen_hidden_size    = 100\n",
        "disc_hidden_size = 100\n",
        "torch.manual_seed(1)\n",
        "\n",
        "gen_model = make_generator_network( input_size= z_size, num_hidden_layers= gen_hidden_layers,\n",
        "                                   num_hidden_units= gen_hidden_size,\n",
        "                                   num_output_units= np.prod(image_size)\n",
        "                                   )\n",
        "\n",
        "print(gen_model)\n",
        "\n",
        "disc_model = make_discriminator_network( input_size=np.prod(image_size),\n",
        "                                        num_hidden_layers= disc_hidden_layers,\n",
        "                                        num_hidden_units= disc_hidden_size\n",
        "                                        )\n",
        "\n",
        "print(disc_model)\n"
      ]
    },
    {
      "cell_type": "code",
      "execution_count": 6,
      "id": "f2ea741c",
      "metadata": {
        "id": "f2ea741c"
      },
      "outputs": [],
      "source": [
        "def create_noise(batch_size, z_size, mode_z):\n",
        "  if mode_z == 'uniform':\n",
        "    input_z = torch.rand(batch_size, z_size)*2 - 1\n",
        "  elif mode_z == 'normal':\n",
        "    input_z = torch.randn(batch_size, z_size)\n",
        "  return input_z\n",
        "                                                     "
      ]
    },
    {
      "cell_type": "code",
      "execution_count": 7,
      "id": "fc19071c",
      "metadata": {
        "colab": {
          "base_uri": "https://localhost:8080/"
        },
        "id": "fc19071c",
        "outputId": "b2d84984-5ed5-4551-886a-85b047b4bcc5"
      },
      "outputs": [
        {
          "output_type": "stream",
          "name": "stdout",
          "text": [
            "input-z --shape: torch.Size([32, 20])\n",
            "input-real --shape: torch.Size([32, 784])\n",
            "Output of G -- shape: torch.Size([32, 784])\n",
            "Disc. (real) -- shape: torch.Size([32, 1])\n",
            "Disc. (fake) -- shape: torch.Size([32, 1])\n"
          ]
        }
      ],
      "source": [
        "from torch.utils.data import DataLoader\n",
        "\n",
        "batch_size = 32\n",
        "\n",
        "dataloader = DataLoader( FashionMNIST_data, batch_size, shuffle = False)\n",
        "input_real, label = next(iter(dataloader))\n",
        "input_real = input_real.view(batch_size, -1)\n",
        "torch.manual_seed(1)\n",
        "mode_z = 'uniform'\n",
        "input_z = create_noise(batch_size, z_size, mode_z)\n",
        "print('input-z --shape:', input_z.shape)\n",
        "print('input-real --shape:', input_real.shape)\n",
        "\n",
        "g_output = gen_model(input_z)\n",
        "print('Output of G -- shape:', g_output.shape)\n",
        "\n",
        "d_proba_real = disc_model(input_real)\n",
        "d_proba_fake = disc_model(g_output)\n",
        "print('Disc. (real) -- shape:', d_proba_real.shape)\n",
        "print('Disc. (fake) -- shape:', d_proba_fake.shape)"
      ]
    },
    {
      "cell_type": "code",
      "execution_count": 8,
      "id": "67186b55",
      "metadata": {
        "id": "67186b55"
      },
      "outputs": [],
      "source": [
        "batch_size = 64\n",
        "torch.manual_seed(1)\n",
        "np.random.seed(1)\n",
        "FashionMNIST_dl = DataLoader(FashionMNIST_data, batch_size, shuffle = False)\n",
        "\n",
        "gen_model = make_generator_network( input_size= z_size, num_hidden_layers= gen_hidden_layers,\n",
        "                                   num_hidden_units= gen_hidden_size,\n",
        "                                   num_output_units= np.prod(image_size)\n",
        "                                   ).to(device)\n",
        "\n",
        "disc_model = make_discriminator_network( input_size=np.prod(image_size),\n",
        "                                        num_hidden_layers= disc_hidden_layers,\n",
        "                                        num_hidden_units= disc_hidden_size\n",
        "                                        ).to(device)\n",
        "\n",
        "loss_fn = nn.BCELoss()\n",
        "d_optimizer = optim.Adam(disc_model.parameters())\n",
        "g_optimizer = optim.Adam(gen_model.parameters())"
      ]
    },
    {
      "cell_type": "code",
      "execution_count": 9,
      "id": "6117e856",
      "metadata": {
        "id": "6117e856"
      },
      "outputs": [],
      "source": [
        "def d_train(x):\n",
        "    disc_model.zero_grad()\n",
        "    \n",
        "    batch_size = x.size(0)\n",
        "    x= x.view(batch_size, -1).to(device)\n",
        "    \n",
        "    d_labels_real = torch.ones(batch_size,1,device=device)\n",
        "    d_proba_real = disc_model(x)\n",
        "    d_loss_real = loss_fn(d_proba_real, d_labels_real)\n",
        "    \n",
        "    # Train D on fake data\n",
        "    input_z = create_noise(batch_size, z_size, mode_z).to(device)\n",
        "    g_output = gen_model(input_z)\n",
        "    \n",
        "    d_proba_fake = disc_model(g_output)\n",
        "    d_labels_fake = torch.zeros(batch_size,1,device=device)\n",
        "    d_loss_fake = loss_fn(d_proba_fake, d_labels_fake)\n",
        "    \n",
        "    d_loss = d_loss_real + d_loss_fake\n",
        "    \n",
        "    d_loss.backward()\n",
        "    d_optimizer.step()\n",
        "     \n",
        "    return d_loss.data.item(), d_proba_real.detach(), d_proba_fake.detach()\n",
        "\n",
        "\n",
        "def g_train(x):\n",
        "    gen_model.zero_grad()\n",
        "    \n",
        "    batch_size = x.size(0)\n",
        "    input_z = create_noise(batch_size, z_size,mode_z).to(device)\n",
        "    g_labels_real = torch.ones(batch_size,1,device=device)\n",
        "    \n",
        "    g_output = gen_model(input_z)\n",
        "    d_proba_fake = disc_model(g_output)\n",
        "    g_loss = loss_fn(d_proba_fake, g_labels_real)\n",
        "\n",
        "    #gradient backprop & optimize only G's parametrs\n",
        "    g_loss.backward()\n",
        "    g_optimizer.step()\n",
        "    \n",
        "    return g_loss.data.item()"
      ]
    },
    {
      "cell_type": "code",
      "execution_count": 11,
      "id": "6f0a28b7",
      "metadata": {
        "colab": {
          "base_uri": "https://localhost:8080/"
        },
        "id": "6f0a28b7",
        "outputId": "5bc51f79-a945-4153-a95d-decaf5622552"
      },
      "outputs": [
        {
          "output_type": "stream",
          "name": "stdout",
          "text": [
            "Epoch 001 | AVG Losses >>G/D 0.9393/1.2339[D-Real 0.5522D-Fake= 0.4298]\n",
            "Epoch 002 | AVG Losses >>G/D 0.8526/1.2953[D-Real 0.5353D-Fake= 0.4512]\n",
            "Epoch 003 | AVG Losses >>G/D 0.8485/1.3095[D-Real 0.5349D-Fake= 0.4613]\n",
            "Epoch 004 | AVG Losses >>G/D 0.8492/1.3059[D-Real 0.5343D-Fake= 0.4583]\n",
            "Epoch 005 | AVG Losses >>G/D 0.8945/1.2447[D-Real 0.5672D-Fake= 0.4456]\n",
            "Epoch 006 | AVG Losses >>G/D 0.9460/1.2023[D-Real 0.5836D-Fake= 0.4262]\n",
            "Epoch 007 | AVG Losses >>G/D 0.8935/1.2795[D-Real 0.5492D-Fake= 0.4414]\n",
            "Epoch 008 | AVG Losses >>G/D 0.9460/1.2131[D-Real 0.5822D-Fake= 0.4291]\n",
            "Epoch 009 | AVG Losses >>G/D 0.9595/1.2207[D-Real 0.5787D-Fake= 0.4230]\n",
            "Epoch 010 | AVG Losses >>G/D 0.9514/1.2303[D-Real 0.5704D-Fake= 0.4258]\n",
            "Epoch 011 | AVG Losses >>G/D 0.9681/1.2100[D-Real 0.5816D-Fake= 0.4200]\n",
            "Epoch 012 | AVG Losses >>G/D 0.9561/1.2166[D-Real 0.5784D-Fake= 0.4216]\n",
            "Epoch 013 | AVG Losses >>G/D 0.9892/1.2130[D-Real 0.5805D-Fake= 0.4184]\n",
            "Epoch 014 | AVG Losses >>G/D 0.9984/1.2076[D-Real 0.5841D-Fake= 0.4141]\n",
            "Epoch 015 | AVG Losses >>G/D 0.9938/1.2030[D-Real 0.5841D-Fake= 0.4134]\n",
            "Epoch 016 | AVG Losses >>G/D 0.9823/1.2179[D-Real 0.5812D-Fake= 0.4196]\n",
            "Epoch 017 | AVG Losses >>G/D 0.9472/1.2282[D-Real 0.5741D-Fake= 0.4248]\n",
            "Epoch 018 | AVG Losses >>G/D 0.9575/1.2199[D-Real 0.5763D-Fake= 0.4227]\n",
            "Epoch 019 | AVG Losses >>G/D 0.9630/1.2243[D-Real 0.5753D-Fake= 0.4219]\n",
            "Epoch 020 | AVG Losses >>G/D 0.9701/1.2099[D-Real 0.5848D-Fake= 0.4197]\n",
            "Epoch 021 | AVG Losses >>G/D 0.9849/1.2008[D-Real 0.5837D-Fake= 0.4145]\n",
            "Epoch 022 | AVG Losses >>G/D 0.9724/1.2125[D-Real 0.5807D-Fake= 0.4171]\n",
            "Epoch 023 | AVG Losses >>G/D 0.9488/1.2192[D-Real 0.5784D-Fake= 0.4245]\n",
            "Epoch 024 | AVG Losses >>G/D 0.9456/1.2306[D-Real 0.5742D-Fake= 0.4264]\n",
            "Epoch 025 | AVG Losses >>G/D 0.9519/1.2325[D-Real 0.5732D-Fake= 0.4252]\n",
            "Epoch 026 | AVG Losses >>G/D 0.9260/1.2562[D-Real 0.5637D-Fake= 0.4335]\n",
            "Epoch 027 | AVG Losses >>G/D 0.9032/1.2627[D-Real 0.5583D-Fake= 0.4384]\n",
            "Epoch 028 | AVG Losses >>G/D 0.9066/1.2535[D-Real 0.5640D-Fake= 0.4368]\n",
            "Epoch 029 | AVG Losses >>G/D 0.9024/1.2692[D-Real 0.5555D-Fake= 0.4402]\n",
            "Epoch 030 | AVG Losses >>G/D 0.8730/1.2735[D-Real 0.5552D-Fake= 0.4470]\n"
          ]
        }
      ],
      "source": [
        "fixed_z = create_noise(batch_size, z_size, mode_z).to(device)\n",
        "\n",
        "def create_samples(g_model, input_z):\n",
        "    g_output = g_model(input_z)\n",
        "    images = torch.reshape(g_output, (batch_size, *image_size))\n",
        "    #fake_display = g_model(input_z).detach().cpu()\n",
        "    return (images + 1)/2.0\n",
        "\n",
        "epoch_samples =[]\n",
        "all_d_losses = []\n",
        "all_g_losses = []\n",
        "all_d_real = []\n",
        "all_d_fake = []\n",
        "num_epochs = 30\n",
        "\n",
        "for epoch in range(1, num_epochs+1):\n",
        "    d_losses, g_losses = [], []\n",
        "    d_vals_real, d_vals_fake = [], []\n",
        "    for i, (x, _) in enumerate(FashionMNIST_dl):\n",
        "        d_loss, d_proba_real, d_proba_fake = d_train(x)\n",
        "        d_losses.append(d_loss)\n",
        "        g_losses.append(g_train(x))\n",
        "        d_vals_real.append(d_proba_real.mean().cpu())\n",
        "        d_vals_fake.append(d_proba_fake.mean().cpu())\n",
        "    \n",
        "    all_d_losses.append(torch.tensor(d_losses).mean())\n",
        "    all_g_losses.append(torch.tensor(g_losses).mean())\n",
        "    all_d_real.append(torch.tensor(d_vals_real).mean())\n",
        "    all_d_fake.append(torch.tensor(d_vals_fake).mean())\n",
        "    print(f'Epoch {epoch:03d} | AVG Losses >>'\n",
        "          f'G/D {all_g_losses[-1]:.4f}/{all_d_losses[-1]:.4f}'\n",
        "          f'[D-Real {all_d_real[-1]:.4f}'\n",
        "          f'D-Fake= {all_d_fake[-1]:.4f}]')\n",
        "    epoch_samples.append(create_samples(gen_model, fixed_z).detach().cpu().numpy())\n",
        "      "
      ]
    },
    {
      "cell_type": "code",
      "source": [],
      "metadata": {
        "id": "OLqGcv3DWkMo"
      },
      "id": "OLqGcv3DWkMo",
      "execution_count": null,
      "outputs": []
    },
    {
      "cell_type": "code",
      "execution_count": 12,
      "id": "9de44426",
      "metadata": {
        "colab": {
          "base_uri": "https://localhost:8080/",
          "height": 565
        },
        "id": "9de44426",
        "outputId": "571c3242-794f-4dd1-83f4-9e9ecf35a42b"
      },
      "outputs": [
        {
          "output_type": "execute_result",
          "data": {
            "text/plain": [
              "Text(0, 0.5, 'Loss')"
            ]
          },
          "metadata": {},
          "execution_count": 12
        },
        {
          "output_type": "display_data",
          "data": {
            "text/plain": [
              "<Figure size 1600x600 with 1 Axes>"
            ],
            "image/png": "[encoded data removed]"
          },
          "metadata": {}
        }
      ],
      "source": [
        "import itertools\n",
        "fig = plt.figure(figsize= (16,6))\n",
        "#plotting the losses\n",
        "\n",
        "ax= fig.add_subplot(1,2,1)\n",
        "\n",
        "plt.plot(all_g_losses, label = 'Generator Loss')\n",
        "half_d_losses = [all_d_loss/2 for all_d_loss in all_d_losses]\n",
        "plt.plot(half_d_losses, label = 'Discriminator loss')\n",
        "plt.legend (fontsize = 20)\n",
        "ax.set_xlabel('iteration', size = 15)\n",
        "ax.set_ylabel('Loss', size = 15)\n",
        "\n"
      ]
    },
    {
      "cell_type": "code",
      "source": [
        "selected_epochs = [1, 2, 3 ,10, 20, 30 ]\n",
        "fig = plt.figure(figsize = (10,14))\n",
        "\n",
        "for i, e in enumerate (selected_epochs):\n",
        "  for j in range(1):\n",
        "    ax = fig.add_subplot(6,5,i*5+j+1)\n",
        "    ax.set_xticks([])\n",
        "    ax.set_yticks([])\n",
        "    if j == 0:\n",
        "      ax.text(\n",
        "          -0.06, 0.5, f'Epoch{e}',\n",
        "          rotation = 90, size = 18, color ='red',\n",
        "          horizontalalignment = 'right',\n",
        "          verticalalignment = 'center',\n",
        "          transform = ax.transAxes\n",
        "      ) \n",
        "      image = epoch_samples[e-1][j]\n",
        "      ax.imshow(image, cmap='gray')\n",
        "\n",
        "plt.show()"
      ],
      "metadata": {
        "colab": {
          "base_uri": "https://localhost:8080/",
          "height": 1000
        },
        "id": "vEcNTkYrY6-7",
        "outputId": "376c4740-23ea-4ff6-91b1-b1865424a354"
      },
      "id": "vEcNTkYrY6-7",
      "execution_count": 33,
      "outputs": [
        {
          "output_type": "display_data",
          "data": {
            "text/plain": [
              "<Figure size 1000x1400 with 6 Axes>"
            ],
            "image/png": "[encoded data removed]"
          },
          "metadata": {}
        }
      ]
    },
    {
      "cell_type": "code",
      "execution_count": null,
      "id": "95f5bf5e",
      "metadata": {
        "id": "95f5bf5e"
      },
      "outputs": [],
      "source": []
    },
    {
      "cell_type": "code",
      "execution_count": null,
      "id": "474649ba",
      "metadata": {
        "id": "474649ba"
      },
      "outputs": [],
      "source": [
        "fixed_z = create_noise(batch_size, z_size, mode_z).to(device)\n",
        "def create_samples(g_model, input_z):\n",
        "    g_output = g_model(input_z)\n",
        "    fake_display = g_model(input_z).detach().cpu()\n",
        "    return fake_display"
      ]
    }
  ],
  "metadata": {
    "kernelspec": {
      "display_name": "Python 3 (ipykernel)",
      "language": "python",
      "name": "python3"
    },
    "language_info": {
      "codemirror_mode": {
        "name": "ipython",
        "version": 3
      },
      "file_extension": ".py",
      "mimetype": "text/x-python",
      "name": "python",
      "nbconvert_exporter": "python",
      "pygments_lexer": "ipython3",
      "version": "3.9.12"
    },
    "colab": {
      "provenance": [],
      "include_colab_link": true
    }
  },
  "nbformat": 4,
  "nbformat_minor": 5
}